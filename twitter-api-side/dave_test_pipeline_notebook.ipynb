{
 "cells": [
  {
   "cell_type": "code",
   "execution_count": 1,
   "metadata": {},
   "outputs": [
    {
     "name": "stderr",
     "output_type": "stream",
     "text": [
      "/Users/gbJaDaCr/Library/Python/3.9/lib/python/site-packages/urllib3/__init__.py:34: NotOpenSSLWarning: urllib3 v2.0 only supports OpenSSL 1.1.1+, currently the 'ssl' module is compiled with 'LibreSSL 2.8.3'. See: https://github.com/urllib3/urllib3/issues/3020\n",
      "  warnings.warn(\n"
     ]
    }
   ],
   "source": [
    "import tweepy\n",
    "import nltk\n",
    "import pandas as pd\n",
    "from datetime import datetime, timedelta, date\n",
    "from nltk.corpus import stopwords\n",
    "from nltk.tokenize import word_tokenize\n",
    "from nltk.stem import WordNetLemmatizer\n",
    "from textblob import TextBlob\n",
    "from vaderSentiment.vaderSentiment import SentimentIntensityAnalyzer\n",
    "from flask import Flask, request, jsonify\n"
   ]
  },
  {
   "cell_type": "markdown",
   "metadata": {},
   "source": [
    "Input the important user credentials, ideally these would be encrypted"
   ]
  },
  {
   "cell_type": "code",
   "execution_count": 2,
   "metadata": {},
   "outputs": [],
   "source": [
    "\n",
    "TWITTER_X_CONSUMER_KEY = 'AaHDae8jAkG3H9Ku2eO6hTf7G'\n",
    "TWITTER_X_CONSUMER_SECRET = 'RYiH18DXSLAlV8FDMDo7Jxc6RMGzHRNoY8iTXnT1EBU3I24eTu'\n",
    "TWITTER_X_ACCESS_TOKEN = '1701967006843449345-lSjaTVnM288fCWRoDWfIho6zHgZOT5'\n",
    "TWITTER_X_ACCESS_TOKEN_SECRET = 'F6vLYUwtob9b5zVyRKeIK1fAom2vnxzUVdPnoJVyxFIbz'\n",
    "\n",
    "TWITTER_X_BEARER_TOKEN = 'AAAAAAAAAAAAAAAAAAAAAD69pwEAAAAACugyBA1idqZMcGuK5jsznQpG9Qk%3DYmoIAEmRLLClkvDTjdcwx4ir6dJ4ZarMWZ5iOhLFhORaxJ0aEP'\n",
    "\n",
    "FLASK_APP_NAME = ''"
   ]
  },
  {
   "cell_type": "code",
   "execution_count": 3,
   "metadata": {},
   "outputs": [],
   "source": [
    "TEXTBLOB_MODEL_VERSION = 1.0\n",
    "VADER_MODEL_VERSION = 1.0\n",
    "\n",
    "FLASK_APP_NAME = ''\n",
    "\n",
    "NUM_TWEETS_TO_ANALYSE_DEFAULT = 10"
   ]
  },
  {
   "cell_type": "code",
   "execution_count": 4,
   "metadata": {},
   "outputs": [
    {
     "name": "stderr",
     "output_type": "stream",
     "text": [
      "[nltk_data] Downloading package stopwords to\n",
      "[nltk_data]     /Users/gbJaDaCr/nltk_data...\n",
      "[nltk_data]   Package stopwords is already up-to-date!\n",
      "[nltk_data] Downloading package punkt to /Users/gbJaDaCr/nltk_data...\n",
      "[nltk_data]   Package punkt is already up-to-date!\n",
      "[nltk_data] Downloading package wordnet to\n",
      "[nltk_data]     /Users/gbJaDaCr/nltk_data...\n",
      "[nltk_data]   Package wordnet is already up-to-date!\n"
     ]
    }
   ],
   "source": [
    "# Set Up Twitter/X Authorisation Client for all further calls.      \n",
    "client = tweepy.Client(TWITTER_X_BEARER_TOKEN, return_type=dict)\n",
    "\n",
    "# Get useful components from the Natural Language Toolkit for Pre-Prep of Tweets\n",
    "nltk.download('stopwords')\n",
    "nltk.download('punkt')\n",
    "nltk.download('wordnet')\n",
    "\n",
    "# Due to limited time, I have chosen to keep to English language only\n",
    "stop_words = set(stopwords.words('english'))\n",
    "lemmatizer = WordNetLemmatizer()\n",
    "\n",
    "# I thought it prudent to show a multi-model solution, initialises the vader analysis\n",
    "vader_analyzer = SentimentIntensityAnalyzer()\n",
    "\n",
    "# Create a Flask App\n",
    "app = Flask(__name__)"
   ]
  },
  {
   "cell_type": "code",
   "execution_count": 5,
   "metadata": {},
   "outputs": [],
   "source": [
    "def make_df_of_raw_tweet_text(hashtag, num_tweets_to_analyse):\n",
    "    tweet_dict = client.search_recent_tweets(query=hashtag, max_results=num_tweets_to_analyse)\n",
    "    tweet_list = []\n",
    "    for raw_tweet_data in tweet_dict['data']:\n",
    "        raw_tweet_text = raw_tweet_data['text']\n",
    "        tweet_list.append(raw_tweet_text)\n",
    "    df_tweets_raw = pd.DataFrame(data=tweet_list, columns=['tweet_text_raw'])\n",
    "    df_tweets_raw['request_timestamp'] = datetime.utcnow().isoformat()\n",
    "    return df_tweets_raw"
   ]
  },
  {
   "cell_type": "code",
   "execution_count": 6,
   "metadata": {},
   "outputs": [],
   "source": [
    "def preprocess_text(raw_tweet):\n",
    "    lower_raw_tweet = raw_tweet.lower()\n",
    "    tokens = word_tokenize(lower_raw_tweet)\n",
    "    tokens = [lemmatizer.lemmatize(token) for token in tokens if token.isalnum()]\n",
    "    tokens = [token for token in tokens if token not in stop_words]\n",
    "    return ' '.join(tokens)"
   ]
  },
  {
   "cell_type": "code",
   "execution_count": 7,
   "metadata": {},
   "outputs": [],
   "source": [
    "def perform_textblob_sentiment_analysis(processed_tweet):\n",
    "    analysis = TextBlob(processed_tweet)\n",
    "    # Classify sentiment (positive, negative, or neutral)\n",
    "    if analysis.sentiment.polarity > 0:\n",
    "        return 'positive'\n",
    "    elif analysis.sentiment.polarity < 0:\n",
    "        return 'negative'\n",
    "    else:\n",
    "        return 'neutral'"
   ]
  },
  {
   "cell_type": "code",
   "execution_count": 8,
   "metadata": {},
   "outputs": [],
   "source": [
    "def perform_vader_sentiment_analysis(processed_tweet):\n",
    "    sentiment_scores = vader_analyzer.polarity_scores(processed_tweet)\n",
    "    return sentiment_scores"
   ]
  },
  {
   "cell_type": "code",
   "execution_count": 9,
   "metadata": {},
   "outputs": [],
   "source": [
    "def make_df_with_analyses(df_tweets_raw):\n",
    "    # Pre-Process Tweet texts\n",
    "    for index, tweet in df_tweets_raw.iterrows():\n",
    "        processed_text = preprocess_text(tweet['tweet_text_raw'])\n",
    "        textblob_sentiment_score = perform_textblob_sentiment_analysis(processed_text)\n",
    "        vader_sentiment_score = perform_vader_sentiment_analysis(processed_text)\n",
    "        df_tweets_raw.loc[index, 'cleaned_tweet_text'] = processed_text\n",
    "        df_tweets_raw.loc[index, 'textblob_score'] = textblob_sentiment_score\n",
    "        df_tweets_raw.loc[index, 'textblob_version'] = TEXTBLOB_MODEL_VERSION\n",
    "        df_tweets_raw.loc[index, 'neg_vader_score'] = vader_sentiment_score['neg']\n",
    "        df_tweets_raw.loc[index, 'neu_vader_score'] = vader_sentiment_score['neu']\n",
    "        df_tweets_raw.loc[index, 'pos_vader_score'] = vader_sentiment_score['pos']\n",
    "        df_tweets_raw.loc[index, 'comp_vader_score'] = vader_sentiment_score['compound']\n",
    "        df_tweets_raw.loc[index, 'vader_version'] = VADER_MODEL_VERSION\n",
    "    # Remove Duplicates\n",
    "    df_tweets_cleaned = df_tweets_raw.drop_duplicates(ignore_index=True, inplace=False)\n",
    "    return df_tweets_cleaned"
   ]
  },
  {
   "cell_type": "code",
   "execution_count": 10,
   "metadata": {},
   "outputs": [],
   "source": [
    "@app.route('/vader_sentiment', methods=['GET'])\n",
    "def get_sentiment():\n",
    "    hashtag = request.args.get('hashtag', default=None)\n",
    "    num_tweets_to_analyse = request.args.get('num_tweets', default=NUM_TWEETS_TO_ANALYSE_DEFAULT)\n",
    "    if hashtag is None:\n",
    "        return jsonify({\"error\": \"Please provide a hashtag parameter\"}), 400\n",
    "\n",
    "    # Collect tweets and calculate sentiment\n",
    "    df_tweets_raw = make_df_of_raw_tweet_text(hashtag, num_tweets_to_analyse)\n",
    "    df_tweets_sentiments = make_df_with_analyses(df_tweets_raw)\n",
    "    overall_sentiment_score = round(df_tweets_sentiments['comp_vader_score'].mean(), 3)\n",
    "\n",
    "    return jsonify({\"sentiment_score\": overall_sentiment_score})"
   ]
  },
  {
   "cell_type": "code",
   "execution_count": 11,
   "metadata": {},
   "outputs": [],
   "source": [
    "@app.route('/get_data', methods=['GET'])\n",
    "def get_sentiment_df():\n",
    "    hashtag = request.args.get('hashtag', default=None)\n",
    "    num_tweets_to_analyse = request.args.get('num_tweets', default=NUM_TWEETS_TO_ANALYSE_DEFAULT)\n",
    "    if hashtag is None:\n",
    "        return jsonify({\"error\": \"Please provide a hashtag parameter\"}), 400\n",
    "\n",
    "    # Collect tweets and calculate sentiment\n",
    "    df_tweets_raw = make_df_of_raw_tweet_text(hashtag, num_tweets_to_analyse)\n",
    "    df_tweets_sentiments = make_df_with_analyses(df_tweets_raw)\n",
    "\n",
    "    return jsonify(df_tweets_sentiments.to_dict())"
   ]
  },
  {
   "cell_type": "code",
   "execution_count": 12,
   "metadata": {},
   "outputs": [
    {
     "name": "stdout",
     "output_type": "stream",
     "text": [
      " * Serving Flask app '__main__'\n",
      " * Debug mode: on\n"
     ]
    },
    {
     "name": "stderr",
     "output_type": "stream",
     "text": [
      "\u001b[31m\u001b[1mWARNING: This is a development server. Do not use it in a production deployment. Use a production WSGI server instead.\u001b[0m\n",
      " * Running on http://127.0.0.1:8000\n",
      "\u001b[33mPress CTRL+C to quit\u001b[0m\n",
      "/var/folders/tc/_w0nx0p9249bjlgz3sx10kbw0000gp/T/ipykernel_50664/3651679784.py:7: FutureWarning: Setting an item of incompatible dtype is deprecated and will raise in a future error of pandas. Value 'rt cacustoms clonearmycustoms captain howzer http clonearmycustoms cac lego legostarwars starwars custom' has dtype incompatible with float64, please explicitly cast to a compatible dtype first.\n",
      "  df_tweets_raw.loc[index, 'cleaned_tweet_text'] = processed_text\n",
      "/var/folders/tc/_w0nx0p9249bjlgz3sx10kbw0000gp/T/ipykernel_50664/3651679784.py:8: FutureWarning: Setting an item of incompatible dtype is deprecated and will raise in a future error of pandas. Value 'neutral' has dtype incompatible with float64, please explicitly cast to a compatible dtype first.\n",
      "  df_tweets_raw.loc[index, 'textblob_score'] = textblob_sentiment_score\n",
      "127.0.0.1 - - [18/Sep/2023 00:18:17] \"GET /get_data?hashtag=LEGOstarwars&num_tweets=100 HTTP/1.1\" 200 -\n"
     ]
    }
   ],
   "source": [
    "app.run(port=8000, debug=True, use_reloader=False)"
   ]
  }
 ],
 "metadata": {
  "kernelspec": {
   "display_name": "venv",
   "language": "python",
   "name": "python3"
  },
  "language_info": {
   "codemirror_mode": {
    "name": "ipython",
    "version": 3
   },
   "file_extension": ".py",
   "mimetype": "text/x-python",
   "name": "python",
   "nbconvert_exporter": "python",
   "pygments_lexer": "ipython3",
   "version": "3.9.6"
  },
  "orig_nbformat": 4
 },
 "nbformat": 4,
 "nbformat_minor": 2
}
