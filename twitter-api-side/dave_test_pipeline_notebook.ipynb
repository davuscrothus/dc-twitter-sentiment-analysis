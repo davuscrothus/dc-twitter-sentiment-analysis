{
 "cells": [
  {
   "cell_type": "code",
   "execution_count": null,
   "metadata": {},
   "outputs": [],
   "source": [
    "import tweepy\n",
    "import nltk\n",
    "from nltk.corpus import stopwords\n",
    "from nltk.tokenize import word_tokenize\n",
    "from nltk.stem import WordNetLemmatizer\n",
    "from textblob import TextBlob\n",
    "from vaderSentiment.vaderSentiment import SentimentIntensityAnalyzer\n",
    "from flask import Flask, request, jsonify"
   ]
  },
  {
   "cell_type": "markdown",
   "metadata": {},
   "source": [
    "Input the important user credentials, ideally these would be encrypted"
   ]
  },
  {
   "cell_type": "code",
   "execution_count": null,
   "metadata": {},
   "outputs": [],
   "source": [
    "\n",
    "TWITTER_X_CONSUMER_KEY = 'AaHDae8jAkG3H9Ku2eO6hTf7G'\n",
    "TWITTER_X_CONSUMER_SECRET = 'RYiH18DXSLAlV8FDMDo7Jxc6RMGzHRNoY8iTXnT1EBU3I24eTu'\n",
    "TWITTER_X_ACCESS_TOKEN = '1701967006843449345-lSjaTVnM288fCWRoDWfIho6zHgZOT5'\n",
    "TWITTER_X_ACCESS_TOKEN_SECRET = 'F6vLYUwtob9b5zVyRKeIK1fAom2vnxzUVdPnoJVyxFIbz'\n",
    "\n",
    "TWITTER_X_BEARER_TOKEN = 'AAAAAAAAAAAAAAAAAAAAAD69pwEAAAAACugyBA1idqZMcGuK5jsznQpG9Qk%3DYmoIAEmRLLClkvDTjdcwx4ir6dJ4ZarMWZ5iOhLFhORaxJ0aEP'\n",
    "\n",
    "FLASK_APP_NAME = ''\n",
    "\n",
    "LEGO_HASHTAG_LIST = ['#LEGO', '#LEGOICONS']"
   ]
  },
  {
   "cell_type": "markdown",
   "metadata": {},
   "source": []
  }
 ],
 "metadata": {
  "language_info": {
   "name": "python"
  },
  "orig_nbformat": 4
 },
 "nbformat": 4,
 "nbformat_minor": 2
}
